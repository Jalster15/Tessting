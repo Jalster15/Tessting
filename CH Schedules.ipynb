{
 "cells": [
  {
   "cell_type": "code",
   "execution_count": 1,
   "metadata": {},
   "outputs": [
    {
     "name": "stdout",
     "output_type": "stream",
     "text": [
      "Enter day of week: tuesday\n",
      "s2 agents: ['Alecxis', 'Garrick', 'Carina', 'Davron', 'Scott', 'Hailey']\n",
      "s3 agents: ['Jenysha', 'Andrè', 'Huw', 'Juliane', 'Alyssa', 'Evan']\n",
      "We can solve 480 tickets\n"
     ]
    }
   ],
   "source": [
    "list_of_agents_s2 = [\"Alecxis\", \"Garrick\", \"Carina\", \"Davron\", \"Scott\", \"Hailey\"]\n",
    "list_of_agents_s3 = [\"Jenysha\", \"Andrè\", \"Huw\", \"Juliane\", \"Alyssa\", \"Evan\"]\n",
    "day_of_week = str.casefold((input(\"Enter day of week: \")))\n",
    "\n",
    "def get_schedule(day_of_week):\n",
    "\n",
    "    num_s2 = len(list_of_agents_s2)\n",
    "    num_s3 = len(list_of_agents_s3)\n",
    "\n",
    "    if day_of_week == \"monday\" or day_of_week == \"tuesday\" or day_of_week == \"wednesday\" or day_of_week == \"thursday\":\n",
    "        print(f\"s2 agents: {list_of_agents_s2}\")\n",
    "        print(f\"s3 agents: {list_of_agents_s3}\")\n",
    "        print(f\"We can solve {(num_s2 * 50) + (num_s3 * 30)} tickets\")\n",
    "\n",
    "    elif day_of_week == str(\"saturday\"):\n",
    "        print(\"No one works today!\")\n",
    "\n",
    "    elif day_of_week == str(\"sunday\"):\n",
    "        num_s2 = len(list_of_agents_s2[4:])\n",
    "        print(f\"s2 agents: {list_of_agents_s2[:4]}\")\n",
    "        print(f\"We can solve {(num_s2 * 50)} tickets\")\n",
    "\n",
    "    else:\n",
    "        return \"Please enter a day of the week\"\n",
    "\n",
    "get_schedule(day_of_week)\n"
   ]
  },
  {
   "cell_type": "code",
   "execution_count": null,
   "metadata": {},
   "outputs": [],
   "source": []
  }
 ],
 "metadata": {
  "kernelspec": {
   "display_name": "Python 3",
   "language": "python",
   "name": "python3"
  },
  "language_info": {
   "codemirror_mode": {
    "name": "ipython",
    "version": 3
   },
   "file_extension": ".py",
   "mimetype": "text/x-python",
   "name": "python",
   "nbconvert_exporter": "python",
   "pygments_lexer": "ipython3",
   "version": "3.7.4"
  }
 },
 "nbformat": 4,
 "nbformat_minor": 2
}
